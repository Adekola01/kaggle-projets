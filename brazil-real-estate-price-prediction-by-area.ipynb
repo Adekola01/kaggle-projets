{
 "cells": [
  {
   "cell_type": "code",
   "execution_count": 1,
   "id": "30e2a08f",
   "metadata": {
    "_cell_guid": "b1076dfc-b9ad-4769-8c92-a6c4dae69d19",
    "_uuid": "8f2839f25d086af736a60e9eeb907d3b93b6e0e5",
    "execution": {
     "iopub.execute_input": "2025-09-04T13:18:15.924469Z",
     "iopub.status.busy": "2025-09-04T13:18:15.924071Z",
     "iopub.status.idle": "2025-09-04T13:18:20.047252Z",
     "shell.execute_reply": "2025-09-04T13:18:20.045881Z"
    },
    "papermill": {
     "duration": 4.132336,
     "end_time": "2025-09-04T13:18:20.049442",
     "exception": false,
     "start_time": "2025-09-04T13:18:15.917106",
     "status": "completed"
    },
    "tags": []
   },
   "outputs": [
    {
     "name": "stdout",
     "output_type": "stream",
     "text": [
      "/kaggle/input/house-prices-2023/house_prices.csv\n",
      "/kaggle/input/linear-regression-house-price-prediction/Housing.csv\n"
     ]
    }
   ],
   "source": [
    "# This Python 3 environment comes with many helpful analytics libraries installed\n",
    "# It is defined by the kaggle/python Docker image: https://github.com/kaggle/docker-python\n",
    "# For example, here's several helpful packages to load\n",
    "\n",
    "import numpy as np # linear algebra\n",
    "import pandas as pd # data processing, CSV file I/O (e.g. pd.read_csv)\n",
    "\n",
    "# Input data files are available in the read-only \"../input/\" directory\n",
    "# For example, running this (by clicking run or pressing Shift+Enter) will list all files under the input directory\n",
    "\n",
    "import os\n",
    "for dirname, _, filenames in os.walk('/kaggle/input'):\n",
    "    for filename in filenames:\n",
    "        print(os.path.join(dirname, filename))\n",
    "\n",
    "import matplotlib.pyplot as plt\n",
    "import pandas as pd\n",
    "from sklearn.linear_model import LinearRegression\n",
    "from sklearn.metrics import mean_absolute_error\n",
    "from sklearn.utils.validation import check_is_fitted\n",
    "from sklearn.model_selection import train_test_split\n",
    "\n",
    "# You can write up to 20GB to the current directory (/kaggle/working/) that gets preserved as output when you create a version using \"Save & Run All\" \n",
    "# You can also write temporary files to /kaggle/temp/, but they won't be saved outside of the current session"
   ]
  },
  {
   "cell_type": "code",
   "execution_count": 2,
   "id": "8711861c",
   "metadata": {
    "execution": {
     "iopub.execute_input": "2025-09-04T13:18:20.062652Z",
     "iopub.status.busy": "2025-09-04T13:18:20.062057Z",
     "iopub.status.idle": "2025-09-04T13:18:20.086408Z",
     "shell.execute_reply": "2025-09-04T13:18:20.085417Z"
    },
    "papermill": {
     "duration": 0.033408,
     "end_time": "2025-09-04T13:18:20.088716",
     "exception": false,
     "start_time": "2025-09-04T13:18:20.055308",
     "status": "completed"
    },
    "tags": []
   },
   "outputs": [],
   "source": [
    "df= pd.read_csv(\"/kaggle/input/linear-regression-house-price-prediction/Housing.csv\")\n"
   ]
  },
  {
   "cell_type": "code",
   "execution_count": 3,
   "id": "0662fc8d",
   "metadata": {
    "execution": {
     "iopub.execute_input": "2025-09-04T13:18:20.101138Z",
     "iopub.status.busy": "2025-09-04T13:18:20.100736Z",
     "iopub.status.idle": "2025-09-04T13:18:20.134860Z",
     "shell.execute_reply": "2025-09-04T13:18:20.133651Z"
    },
    "papermill": {
     "duration": 0.043066,
     "end_time": "2025-09-04T13:18:20.137104",
     "exception": false,
     "start_time": "2025-09-04T13:18:20.094038",
     "status": "completed"
    },
    "tags": []
   },
   "outputs": [
    {
     "data": {
      "text/html": [
       "<div>\n",
       "<style scoped>\n",
       "    .dataframe tbody tr th:only-of-type {\n",
       "        vertical-align: middle;\n",
       "    }\n",
       "\n",
       "    .dataframe tbody tr th {\n",
       "        vertical-align: top;\n",
       "    }\n",
       "\n",
       "    .dataframe thead th {\n",
       "        text-align: right;\n",
       "    }\n",
       "</style>\n",
       "<table border=\"1\" class=\"dataframe\">\n",
       "  <thead>\n",
       "    <tr style=\"text-align: right;\">\n",
       "      <th></th>\n",
       "      <th>price</th>\n",
       "      <th>area</th>\n",
       "      <th>bedrooms</th>\n",
       "      <th>bathrooms</th>\n",
       "      <th>stories</th>\n",
       "      <th>mainroad</th>\n",
       "      <th>guestroom</th>\n",
       "      <th>basement</th>\n",
       "      <th>hotwaterheating</th>\n",
       "      <th>airconditioning</th>\n",
       "      <th>parking</th>\n",
       "      <th>prefarea</th>\n",
       "      <th>furnishingstatus</th>\n",
       "    </tr>\n",
       "  </thead>\n",
       "  <tbody>\n",
       "    <tr>\n",
       "      <th>0</th>\n",
       "      <td>13300000</td>\n",
       "      <td>7420</td>\n",
       "      <td>4</td>\n",
       "      <td>2</td>\n",
       "      <td>3</td>\n",
       "      <td>yes</td>\n",
       "      <td>no</td>\n",
       "      <td>no</td>\n",
       "      <td>no</td>\n",
       "      <td>yes</td>\n",
       "      <td>2</td>\n",
       "      <td>yes</td>\n",
       "      <td>furnished</td>\n",
       "    </tr>\n",
       "    <tr>\n",
       "      <th>1</th>\n",
       "      <td>12250000</td>\n",
       "      <td>8960</td>\n",
       "      <td>4</td>\n",
       "      <td>4</td>\n",
       "      <td>4</td>\n",
       "      <td>yes</td>\n",
       "      <td>no</td>\n",
       "      <td>no</td>\n",
       "      <td>no</td>\n",
       "      <td>yes</td>\n",
       "      <td>3</td>\n",
       "      <td>no</td>\n",
       "      <td>furnished</td>\n",
       "    </tr>\n",
       "    <tr>\n",
       "      <th>2</th>\n",
       "      <td>12250000</td>\n",
       "      <td>9960</td>\n",
       "      <td>3</td>\n",
       "      <td>2</td>\n",
       "      <td>2</td>\n",
       "      <td>yes</td>\n",
       "      <td>no</td>\n",
       "      <td>yes</td>\n",
       "      <td>no</td>\n",
       "      <td>no</td>\n",
       "      <td>2</td>\n",
       "      <td>yes</td>\n",
       "      <td>semi-furnished</td>\n",
       "    </tr>\n",
       "    <tr>\n",
       "      <th>3</th>\n",
       "      <td>12215000</td>\n",
       "      <td>7500</td>\n",
       "      <td>4</td>\n",
       "      <td>2</td>\n",
       "      <td>2</td>\n",
       "      <td>yes</td>\n",
       "      <td>no</td>\n",
       "      <td>yes</td>\n",
       "      <td>no</td>\n",
       "      <td>yes</td>\n",
       "      <td>3</td>\n",
       "      <td>yes</td>\n",
       "      <td>furnished</td>\n",
       "    </tr>\n",
       "    <tr>\n",
       "      <th>4</th>\n",
       "      <td>11410000</td>\n",
       "      <td>7420</td>\n",
       "      <td>4</td>\n",
       "      <td>1</td>\n",
       "      <td>2</td>\n",
       "      <td>yes</td>\n",
       "      <td>yes</td>\n",
       "      <td>yes</td>\n",
       "      <td>no</td>\n",
       "      <td>yes</td>\n",
       "      <td>2</td>\n",
       "      <td>no</td>\n",
       "      <td>furnished</td>\n",
       "    </tr>\n",
       "  </tbody>\n",
       "</table>\n",
       "</div>"
      ],
      "text/plain": [
       "      price  area  bedrooms  bathrooms  stories mainroad guestroom basement  \\\n",
       "0  13300000  7420         4          2        3      yes        no       no   \n",
       "1  12250000  8960         4          4        4      yes        no       no   \n",
       "2  12250000  9960         3          2        2      yes        no      yes   \n",
       "3  12215000  7500         4          2        2      yes        no      yes   \n",
       "4  11410000  7420         4          1        2      yes       yes      yes   \n",
       "\n",
       "  hotwaterheating airconditioning  parking prefarea furnishingstatus  \n",
       "0              no             yes        2      yes        furnished  \n",
       "1              no             yes        3       no        furnished  \n",
       "2              no              no        2      yes   semi-furnished  \n",
       "3              no             yes        3      yes        furnished  \n",
       "4              no             yes        2       no        furnished  "
      ]
     },
     "execution_count": 3,
     "metadata": {},
     "output_type": "execute_result"
    }
   ],
   "source": [
    "df.head()"
   ]
  },
  {
   "cell_type": "code",
   "execution_count": 4,
   "id": "3484b0a8",
   "metadata": {
    "execution": {
     "iopub.execute_input": "2025-09-04T13:18:20.151148Z",
     "iopub.status.busy": "2025-09-04T13:18:20.150664Z",
     "iopub.status.idle": "2025-09-04T13:18:20.178103Z",
     "shell.execute_reply": "2025-09-04T13:18:20.176754Z"
    },
    "papermill": {
     "duration": 0.036866,
     "end_time": "2025-09-04T13:18:20.180230",
     "exception": false,
     "start_time": "2025-09-04T13:18:20.143364",
     "status": "completed"
    },
    "tags": []
   },
   "outputs": [
    {
     "name": "stdout",
     "output_type": "stream",
     "text": [
      "<class 'pandas.core.frame.DataFrame'>\n",
      "RangeIndex: 545 entries, 0 to 544\n",
      "Data columns (total 13 columns):\n",
      " #   Column            Non-Null Count  Dtype \n",
      "---  ------            --------------  ----- \n",
      " 0   price             545 non-null    int64 \n",
      " 1   area              545 non-null    int64 \n",
      " 2   bedrooms          545 non-null    int64 \n",
      " 3   bathrooms         545 non-null    int64 \n",
      " 4   stories           545 non-null    int64 \n",
      " 5   mainroad          545 non-null    object\n",
      " 6   guestroom         545 non-null    object\n",
      " 7   basement          545 non-null    object\n",
      " 8   hotwaterheating   545 non-null    object\n",
      " 9   airconditioning   545 non-null    object\n",
      " 10  parking           545 non-null    int64 \n",
      " 11  prefarea          545 non-null    object\n",
      " 12  furnishingstatus  545 non-null    object\n",
      "dtypes: int64(6), object(7)\n",
      "memory usage: 55.5+ KB\n"
     ]
    }
   ],
   "source": [
    "df.info()"
   ]
  },
  {
   "cell_type": "code",
   "execution_count": 5,
   "id": "343d029d",
   "metadata": {
    "execution": {
     "iopub.execute_input": "2025-09-04T13:18:20.193390Z",
     "iopub.status.busy": "2025-09-04T13:18:20.193042Z",
     "iopub.status.idle": "2025-09-04T13:18:20.201990Z",
     "shell.execute_reply": "2025-09-04T13:18:20.201091Z"
    },
    "papermill": {
     "duration": 0.01717,
     "end_time": "2025-09-04T13:18:20.203474",
     "exception": false,
     "start_time": "2025-09-04T13:18:20.186304",
     "status": "completed"
    },
    "tags": []
   },
   "outputs": [
    {
     "data": {
      "text/plain": [
       "219"
      ]
     },
     "execution_count": 5,
     "metadata": {},
     "output_type": "execute_result"
    }
   ],
   "source": [
    "df.head()\n",
    "df[\"price\"].nunique()"
   ]
  },
  {
   "cell_type": "code",
   "execution_count": 6,
   "id": "fd0c4fb0",
   "metadata": {
    "execution": {
     "iopub.execute_input": "2025-09-04T13:18:20.215166Z",
     "iopub.status.busy": "2025-09-04T13:18:20.214820Z",
     "iopub.status.idle": "2025-09-04T13:18:20.562632Z",
     "shell.execute_reply": "2025-09-04T13:18:20.561515Z"
    },
    "papermill": {
     "duration": 0.355708,
     "end_time": "2025-09-04T13:18:20.564441",
     "exception": false,
     "start_time": "2025-09-04T13:18:20.208733",
     "status": "completed"
    },
    "tags": []
   },
   "outputs": [
    {
     "data": {
      "image/png": "[encoded data removed]",
      "text/plain": [
       "<Figure size 640x480 with 1 Axes>"
      ]
     },
     "metadata": {},
     "output_type": "display_data"
    }
   ],
   "source": [
    "plt.hist(df[\"area\"])\n",
    "plt.xlabel(\"Area [sq meters]\")\n",
    "plt.title(\"Distribution of Apartment Sizes\");"
   ]
  },
  {
   "cell_type": "code",
   "execution_count": 7,
   "id": "162b2316",
   "metadata": {
    "execution": {
     "iopub.execute_input": "2025-09-04T13:18:20.577688Z",
     "iopub.status.busy": "2025-09-04T13:18:20.577320Z",
     "iopub.status.idle": "2025-09-04T13:18:20.591103Z",
     "shell.execute_reply": "2025-09-04T13:18:20.590076Z"
    },
    "papermill": {
     "duration": 0.022621,
     "end_time": "2025-09-04T13:18:20.592681",
     "exception": false,
     "start_time": "2025-09-04T13:18:20.570060",
     "status": "completed"
    },
    "tags": []
   },
   "outputs": [
    {
     "data": {
      "text/plain": [
       "count      545.000000\n",
       "mean      5150.541284\n",
       "std       2170.141023\n",
       "min       1650.000000\n",
       "25%       3600.000000\n",
       "50%       4600.000000\n",
       "75%       6360.000000\n",
       "max      16200.000000\n",
       "Name: area, dtype: float64"
      ]
     },
     "execution_count": 7,
     "metadata": {},
     "output_type": "execute_result"
    }
   ],
   "source": [
    "df[\"area\"].describe()"
   ]
  },
  {
   "cell_type": "code",
   "execution_count": 8,
   "id": "604522f8",
   "metadata": {
    "execution": {
     "iopub.execute_input": "2025-09-04T13:18:20.605434Z",
     "iopub.status.busy": "2025-09-04T13:18:20.605111Z",
     "iopub.status.idle": "2025-09-04T13:18:20.867538Z",
     "shell.execute_reply": "2025-09-04T13:18:20.866338Z"
    },
    "papermill": {
     "duration": 0.270986,
     "end_time": "2025-09-04T13:18:20.869396",
     "exception": false,
     "start_time": "2025-09-04T13:18:20.598410",
     "status": "completed"
    },
    "tags": []
   },
   "outputs": [
    {
     "data": {
      "text/plain": [
       "Text(0.5, 1.0, 'Islamabad: Price vs Area')"
      ]
     },
     "execution_count": 8,
     "metadata": {},
     "output_type": "execute_result"
    },
    {
     "data": {
      "image/png": "[encoded data removed]",
      "text/plain": [
       "<Figure size 640x480 with 1 Axes>"
      ]
     },
     "metadata": {},
     "output_type": "display_data"
    }
   ],
   "source": [
    "plt.scatter(x=df[\"area\"], y=df[\"price\"])\n",
    "plt.xlabel(\"Area\")\n",
    "plt.ylabel(\"Price\")\n",
    "plt.title(\"Islamabad: Price vs Area\")"
   ]
  },
  {
   "cell_type": "code",
   "execution_count": 9,
   "id": "3eff54f5",
   "metadata": {
    "execution": {
     "iopub.execute_input": "2025-09-04T13:18:20.885437Z",
     "iopub.status.busy": "2025-09-04T13:18:20.885095Z",
     "iopub.status.idle": "2025-09-04T13:18:20.895584Z",
     "shell.execute_reply": "2025-09-04T13:18:20.894541Z"
    },
    "papermill": {
     "duration": 0.02071,
     "end_time": "2025-09-04T13:18:20.897306",
     "exception": false,
     "start_time": "2025-09-04T13:18:20.876596",
     "status": "completed"
    },
    "tags": []
   },
   "outputs": [
    {
     "data": {
      "text/plain": [
       "area    545\n",
       "dtype: int64"
      ]
     },
     "execution_count": 9,
     "metadata": {},
     "output_type": "execute_result"
    }
   ],
   "source": [
    "#Training data- Feature matrix\n",
    "features = [\"area\"]\n",
    "X_train = df[features]\n",
    "X_train.count()"
   ]
  },
  {
   "cell_type": "code",
   "execution_count": 10,
   "id": "bef7a1be",
   "metadata": {
    "execution": {
     "iopub.execute_input": "2025-09-04T13:18:20.911796Z",
     "iopub.status.busy": "2025-09-04T13:18:20.911426Z",
     "iopub.status.idle": "2025-09-04T13:18:20.917173Z",
     "shell.execute_reply": "2025-09-04T13:18:20.915697Z"
    },
    "papermill": {
     "duration": 0.014849,
     "end_time": "2025-09-04T13:18:20.918944",
     "exception": false,
     "start_time": "2025-09-04T13:18:20.904095",
     "status": "completed"
    },
    "tags": []
   },
   "outputs": [],
   "source": [
    "target = \"price\"\n",
    "y_train= df[target]"
   ]
  },
  {
   "cell_type": "code",
   "execution_count": 11,
   "id": "20cd6710",
   "metadata": {
    "execution": {
     "iopub.execute_input": "2025-09-04T13:18:20.934569Z",
     "iopub.status.busy": "2025-09-04T13:18:20.934239Z",
     "iopub.status.idle": "2025-09-04T13:18:20.941170Z",
     "shell.execute_reply": "2025-09-04T13:18:20.940113Z"
    },
    "papermill": {
     "duration": 0.017278,
     "end_time": "2025-09-04T13:18:20.942829",
     "exception": false,
     "start_time": "2025-09-04T13:18:20.925551",
     "status": "completed"
    },
    "tags": []
   },
   "outputs": [
    {
     "data": {
      "text/plain": [
       "4766729.247706422"
      ]
     },
     "execution_count": 11,
     "metadata": {},
     "output_type": "execute_result"
    }
   ],
   "source": [
    "#baseline\n",
    "y_mean = y_train.mean()\n",
    "y_mean"
   ]
  },
  {
   "cell_type": "code",
   "execution_count": 12,
   "id": "7cc21b21",
   "metadata": {
    "execution": {
     "iopub.execute_input": "2025-09-04T13:18:20.957541Z",
     "iopub.status.busy": "2025-09-04T13:18:20.957199Z",
     "iopub.status.idle": "2025-09-04T13:18:20.963287Z",
     "shell.execute_reply": "2025-09-04T13:18:20.962489Z"
    },
    "papermill": {
     "duration": 0.015268,
     "end_time": "2025-09-04T13:18:20.964857",
     "exception": false,
     "start_time": "2025-09-04T13:18:20.949589",
     "status": "completed"
    },
    "tags": []
   },
   "outputs": [
    {
     "data": {
      "text/plain": [
       "[4766729.247706422,\n",
       " 4766729.247706422,\n",
       " 4766729.247706422,\n",
       " 4766729.247706422,\n",
       " 4766729.247706422]"
      ]
     },
     "execution_count": 12,
     "metadata": {},
     "output_type": "execute_result"
    }
   ],
   "source": [
    "y_pred_baseline = [y_mean] * len(y_train)\n",
    "y_pred_baseline[:5]"
   ]
  },
  {
   "cell_type": "code",
   "execution_count": 13,
   "id": "5b3dc78f",
   "metadata": {
    "execution": {
     "iopub.execute_input": "2025-09-04T13:18:20.979482Z",
     "iopub.status.busy": "2025-09-04T13:18:20.979156Z",
     "iopub.status.idle": "2025-09-04T13:18:21.343208Z",
     "shell.execute_reply": "2025-09-04T13:18:21.341693Z"
    },
    "papermill": {
     "duration": 0.37351,
     "end_time": "2025-09-04T13:18:21.345149",
     "exception": false,
     "start_time": "2025-09-04T13:18:20.971639",
     "status": "completed"
    },
    "tags": []
   },
   "outputs": [
    {
     "data": {
      "image/png": "[encoded data removed]",
      "text/plain": [
       "<Figure size 640x480 with 1 Axes>"
      ]
     },
     "metadata": {},
     "output_type": "display_data"
    }
   ],
   "source": [
    "# Add a line to the plot\n",
    "plt.plot(X_train, y_pred_baseline, color=\"orange\", label=\"Baseline Model\")\n",
    "\n",
    "plt.scatter(X_train, y_train)\n",
    "plt.xlabel(\"Area [sq meters]\")\n",
    "plt.ylabel(\"Price [USD]\")\n",
    "plt.title(\"Price vs. Area\")\n",
    "plt.legend();"
   ]
  },
  {
   "cell_type": "code",
   "execution_count": 14,
   "id": "e178e761",
   "metadata": {
    "execution": {
     "iopub.execute_input": "2025-09-04T13:18:21.361782Z",
     "iopub.status.busy": "2025-09-04T13:18:21.361432Z",
     "iopub.status.idle": "2025-09-04T13:18:21.368840Z",
     "shell.execute_reply": "2025-09-04T13:18:21.367526Z"
    },
    "papermill": {
     "duration": 0.017251,
     "end_time": "2025-09-04T13:18:21.370378",
     "exception": false,
     "start_time": "2025-09-04T13:18:21.353127",
     "status": "completed"
    },
    "tags": []
   },
   "outputs": [
    {
     "name": "stdout",
     "output_type": "stream",
     "text": [
      "Mean apt price 4766729.25\n",
      "Baseline MAE: 1440702.92\n"
     ]
    }
   ],
   "source": [
    "mae_baseline = mean_absolute_error(y_train, y_pred_baseline)\n",
    "\n",
    "print(\"Mean apt price\", round(y_mean, 2))\n",
    "print(\"Baseline MAE:\", round(mae_baseline, 2))"
   ]
  },
  {
   "cell_type": "code",
   "execution_count": 15,
   "id": "aca37972",
   "metadata": {
    "execution": {
     "iopub.execute_input": "2025-09-04T13:18:21.387829Z",
     "iopub.status.busy": "2025-09-04T13:18:21.386734Z",
     "iopub.status.idle": "2025-09-04T13:18:21.391674Z",
     "shell.execute_reply": "2025-09-04T13:18:21.390693Z"
    },
    "papermill": {
     "duration": 0.015121,
     "end_time": "2025-09-04T13:18:21.393337",
     "exception": false,
     "start_time": "2025-09-04T13:18:21.378216",
     "status": "completed"
    },
    "tags": []
   },
   "outputs": [],
   "source": [
    "model = LinearRegression()"
   ]
  },
  {
   "cell_type": "code",
   "execution_count": 16,
   "id": "0dccbd82",
   "metadata": {
    "execution": {
     "iopub.execute_input": "2025-09-04T13:18:21.409092Z",
     "iopub.status.busy": "2025-09-04T13:18:21.408788Z",
     "iopub.status.idle": "2025-09-04T13:18:21.436778Z",
     "shell.execute_reply": "2025-09-04T13:18:21.435719Z"
    },
    "papermill": {
     "duration": 0.037777,
     "end_time": "2025-09-04T13:18:21.438495",
     "exception": false,
     "start_time": "2025-09-04T13:18:21.400718",
     "status": "completed"
    },
    "tags": []
   },
   "outputs": [
    {
     "data": {
      "text/html": [
       "<style>#sk-container-id-1 {color: black;background-color: white;}#sk-container-id-1 pre{padding: 0;}#sk-container-id-1 div.sk-toggleable {background-color: white;}#sk-container-id-1 label.sk-toggleable__label {cursor: pointer;display: block;width: 100%;margin-bottom: 0;padding: 0.3em;box-sizing: border-box;text-align: center;}#sk-container-id-1 label.sk-toggleable__label-arrow:before {content: \"▸\";float: left;margin-right: 0.25em;color: #696969;}#sk-container-id-1 label.sk-toggleable__label-arrow:hover:before {color: black;}#sk-container-id-1 div.sk-estimator:hover label.sk-toggleable__label-arrow:before {color: black;}#sk-container-id-1 div.sk-toggleable__content {max-height: 0;max-width: 0;overflow: hidden;text-align: left;background-color: #f0f8ff;}#sk-container-id-1 div.sk-toggleable__content pre {margin: 0.2em;color: black;border-radius: 0.25em;background-color: #f0f8ff;}#sk-container-id-1 input.sk-toggleable__control:checked~div.sk-toggleable__content {max-height: 200px;max-width: 100%;overflow: auto;}#sk-container-id-1 input.sk-toggleable__control:checked~label.sk-toggleable__label-arrow:before {content: \"▾\";}#sk-container-id-1 div.sk-estimator input.sk-toggleable__control:checked~label.sk-toggleable__label {background-color: #d4ebff;}#sk-container-id-1 div.sk-label input.sk-toggleable__control:checked~label.sk-toggleable__label {background-color: #d4ebff;}#sk-container-id-1 input.sk-hidden--visually {border: 0;clip: rect(1px 1px 1px 1px);clip: rect(1px, 1px, 1px, 1px);height: 1px;margin: -1px;overflow: hidden;padding: 0;position: absolute;width: 1px;}#sk-container-id-1 div.sk-estimator {font-family: monospace;background-color: #f0f8ff;border: 1px dotted black;border-radius: 0.25em;box-sizing: border-box;margin-bottom: 0.5em;}#sk-container-id-1 div.sk-estimator:hover {background-color: #d4ebff;}#sk-container-id-1 div.sk-parallel-item::after {content: \"\";width: 100%;border-bottom: 1px solid gray;flex-grow: 1;}#sk-container-id-1 div.sk-label:hover label.sk-toggleable__label {background-color: #d4ebff;}#sk-container-id-1 div.sk-serial::before {content: \"\";position: absolute;border-left: 1px solid gray;box-sizing: border-box;top: 0;bottom: 0;left: 50%;z-index: 0;}#sk-container-id-1 div.sk-serial {display: flex;flex-direction: column;align-items: center;background-color: white;padding-right: 0.2em;padding-left: 0.2em;position: relative;}#sk-container-id-1 div.sk-item {position: relative;z-index: 1;}#sk-container-id-1 div.sk-parallel {display: flex;align-items: stretch;justify-content: center;background-color: white;position: relative;}#sk-container-id-1 div.sk-item::before, #sk-container-id-1 div.sk-parallel-item::before {content: \"\";position: absolute;border-left: 1px solid gray;box-sizing: border-box;top: 0;bottom: 0;left: 50%;z-index: -1;}#sk-container-id-1 div.sk-parallel-item {display: flex;flex-direction: column;z-index: 1;position: relative;background-color: white;}#sk-container-id-1 div.sk-parallel-item:first-child::after {align-self: flex-end;width: 50%;}#sk-container-id-1 div.sk-parallel-item:last-child::after {align-self: flex-start;width: 50%;}#sk-container-id-1 div.sk-parallel-item:only-child::after {width: 0;}#sk-container-id-1 div.sk-dashed-wrapped {border: 1px dashed gray;margin: 0 0.4em 0.5em 0.4em;box-sizing: border-box;padding-bottom: 0.4em;background-color: white;}#sk-container-id-1 div.sk-label label {font-family: monospace;font-weight: bold;display: inline-block;line-height: 1.2em;}#sk-container-id-1 div.sk-label-container {text-align: center;}#sk-container-id-1 div.sk-container {/* jupyter's `normalize.less` sets `[hidden] { display: none; }` but bootstrap.min.css set `[hidden] { display: none !important; }` so we also need the `!important` here to be able to override the default hidden behavior on the sphinx rendered scikit-learn.org. See: https://github.com/scikit-learn/scikit-learn/issues/21755 */display: inline-block !important;position: relative;}#sk-container-id-1 div.sk-text-repr-fallback {display: none;}</style><div id=\"sk-container-id-1\" class=\"sk-top-container\"><div class=\"sk-text-repr-fallback\"><pre>LinearRegression()</pre><b>In a Jupyter environment, please rerun this cell to show the HTML representation or trust the notebook. <br />On GitHub, the HTML representation is unable to render, please try loading this page with nbviewer.org.</b></div><div class=\"sk-container\" hidden><div class=\"sk-item\"><div class=\"sk-estimator sk-toggleable\"><input class=\"sk-toggleable__control sk-hidden--visually\" id=\"sk-estimator-id-1\" type=\"checkbox\" checked><label for=\"sk-estimator-id-1\" class=\"sk-toggleable__label sk-toggleable__label-arrow\">LinearRegression</label><div class=\"sk-toggleable__content\"><pre>LinearRegression()</pre></div></div></div></div></div>"
      ],
      "text/plain": [
       "LinearRegression()"
      ]
     },
     "execution_count": 16,
     "metadata": {},
     "output_type": "execute_result"
    }
   ],
   "source": [
    "model.fit(X_train, y_train)"
   ]
  },
  {
   "cell_type": "code",
   "execution_count": 17,
   "id": "219db273",
   "metadata": {
    "execution": {
     "iopub.execute_input": "2025-09-04T13:18:21.455781Z",
     "iopub.status.busy": "2025-09-04T13:18:21.455455Z",
     "iopub.status.idle": "2025-09-04T13:18:21.463833Z",
     "shell.execute_reply": "2025-09-04T13:18:21.462877Z"
    },
    "papermill": {
     "duration": 0.018845,
     "end_time": "2025-09-04T13:18:21.465303",
     "exception": false,
     "start_time": "2025-09-04T13:18:21.446458",
     "status": "completed"
    },
    "tags": []
   },
   "outputs": [
    {
     "data": {
      "text/plain": [
       "array([5815162.19790048, 6526603.53508057, 6988578.42935335,\n",
       "       5852120.18944231, 5815162.19790048])"
      ]
     },
     "execution_count": 17,
     "metadata": {},
     "output_type": "execute_result"
    }
   ],
   "source": [
    "y_pred_training = model.predict(X_train)\n",
    "y_pred_training[:5]"
   ]
  },
  {
   "cell_type": "code",
   "execution_count": 18,
   "id": "6c400bf2",
   "metadata": {
    "execution": {
     "iopub.execute_input": "2025-09-04T13:18:21.483071Z",
     "iopub.status.busy": "2025-09-04T13:18:21.482771Z",
     "iopub.status.idle": "2025-09-04T13:18:21.489455Z",
     "shell.execute_reply": "2025-09-04T13:18:21.488326Z"
    },
    "papermill": {
     "duration": 0.017967,
     "end_time": "2025-09-04T13:18:21.491093",
     "exception": false,
     "start_time": "2025-09-04T13:18:21.473126",
     "status": "completed"
    },
    "tags": []
   },
   "outputs": [
    {
     "name": "stdout",
     "output_type": "stream",
     "text": [
      "Training MAE: 1172305.51\n"
     ]
    }
   ],
   "source": [
    "mae_training = mean_absolute_error(y_train, y_pred_training)\n",
    "print(\"Training MAE:\", round(mae_training, 2))"
   ]
  },
  {
   "cell_type": "code",
   "execution_count": 19,
   "id": "d1e6aefc",
   "metadata": {
    "execution": {
     "iopub.execute_input": "2025-09-04T13:18:21.508625Z",
     "iopub.status.busy": "2025-09-04T13:18:21.508289Z",
     "iopub.status.idle": "2025-09-04T13:18:21.516796Z",
     "shell.execute_reply": "2025-09-04T13:18:21.515790Z"
    },
    "papermill": {
     "duration": 0.019209,
     "end_time": "2025-09-04T13:18:21.518392",
     "exception": false,
     "start_time": "2025-09-04T13:18:21.499183",
     "status": "completed"
    },
    "tags": []
   },
   "outputs": [],
   "source": [
    "_, X_test, _, y_test = train_test_split(\n",
    "    X_train, y_train, test_size=0.2, random_state=42\n",
    ")\n"
   ]
  },
  {
   "cell_type": "code",
   "execution_count": 20,
   "id": "4891b812",
   "metadata": {
    "execution": {
     "iopub.execute_input": "2025-09-04T13:18:21.536231Z",
     "iopub.status.busy": "2025-09-04T13:18:21.535831Z",
     "iopub.status.idle": "2025-09-04T13:18:21.553494Z",
     "shell.execute_reply": "2025-09-04T13:18:21.552000Z"
    },
    "papermill": {
     "duration": 0.028743,
     "end_time": "2025-09-04T13:18:21.555158",
     "exception": false,
     "start_time": "2025-09-04T13:18:21.526415",
     "status": "completed"
    },
    "tags": []
   },
   "outputs": [
    {
     "name": "stdout",
     "output_type": "stream",
     "text": [
      "Overlap rows: 563\n"
     ]
    }
   ],
   "source": [
    "overlap = pd.merge(X_train, X_test, how=\"inner\")\n",
    "print(\"Overlap rows:\", overlap.shape[0])\n"
   ]
  },
  {
   "cell_type": "code",
   "execution_count": 21,
   "id": "42c920db",
   "metadata": {
    "execution": {
     "iopub.execute_input": "2025-09-04T13:18:21.572903Z",
     "iopub.status.busy": "2025-09-04T13:18:21.572487Z",
     "iopub.status.idle": "2025-09-04T13:18:21.581657Z",
     "shell.execute_reply": "2025-09-04T13:18:21.580717Z"
    },
    "papermill": {
     "duration": 0.01972,
     "end_time": "2025-09-04T13:18:21.583276",
     "exception": false,
     "start_time": "2025-09-04T13:18:21.563556",
     "status": "completed"
    },
    "tags": []
   },
   "outputs": [
    {
     "data": {
      "text/plain": [
       "0    5.112960e+06\n",
       "1    5.390145e+06\n",
       "2    4.253687e+06\n",
       "3    4.697183e+06\n",
       "4    4.216729e+06\n",
       "dtype: float64"
      ]
     },
     "execution_count": 21,
     "metadata": {},
     "output_type": "execute_result"
    }
   ],
   "source": [
    "y_pred_test = pd.Series(model.predict(X_test))\n",
    "y_pred_test.head()"
   ]
  },
  {
   "cell_type": "code",
   "execution_count": 22,
   "id": "09d4d499",
   "metadata": {
    "execution": {
     "iopub.execute_input": "2025-09-04T13:18:21.601419Z",
     "iopub.status.busy": "2025-09-04T13:18:21.601101Z",
     "iopub.status.idle": "2025-09-04T13:18:21.613268Z",
     "shell.execute_reply": "2025-09-04T13:18:21.611948Z"
    },
    "papermill": {
     "duration": 0.022776,
     "end_time": "2025-09-04T13:18:21.615038",
     "exception": false,
     "start_time": "2025-09-04T13:18:21.592262",
     "status": "completed"
    },
    "tags": []
   },
   "outputs": [
    {
     "name": "stdout",
     "output_type": "stream",
     "text": [
      "<class 'pandas.core.frame.DataFrame'>\n",
      "Index: 109 entries, 316 to 155\n",
      "Data columns (total 1 columns):\n",
      " #   Column  Non-Null Count  Dtype\n",
      "---  ------  --------------  -----\n",
      " 0   area    109 non-null    int64\n",
      "dtypes: int64(1)\n",
      "memory usage: 1.7 KB\n"
     ]
    }
   ],
   "source": [
    "X_test.info()"
   ]
  },
  {
   "cell_type": "code",
   "execution_count": 23,
   "id": "228f2be9",
   "metadata": {
    "execution": {
     "iopub.execute_input": "2025-09-04T13:18:21.634534Z",
     "iopub.status.busy": "2025-09-04T13:18:21.634207Z",
     "iopub.status.idle": "2025-09-04T13:18:21.640775Z",
     "shell.execute_reply": "2025-09-04T13:18:21.639685Z"
    },
    "papermill": {
     "duration": 0.018094,
     "end_time": "2025-09-04T13:18:21.642408",
     "exception": false,
     "start_time": "2025-09-04T13:18:21.624314",
     "status": "completed"
    },
    "tags": []
   },
   "outputs": [
    {
     "name": "stdout",
     "output_type": "stream",
     "text": [
      "Model Intercept: 2387308.48\n"
     ]
    }
   ],
   "source": [
    "intercept = round(model.intercept_, round(2))\n",
    "print(\"Model Intercept:\", intercept)\n",
    "assert any([isinstance(intercept, int), isinstance(intercept, float)])"
   ]
  },
  {
   "cell_type": "code",
   "execution_count": 24,
   "id": "7e851618",
   "metadata": {
    "execution": {
     "iopub.execute_input": "2025-09-04T13:18:21.660174Z",
     "iopub.status.busy": "2025-09-04T13:18:21.659745Z",
     "iopub.status.idle": "2025-09-04T13:18:21.665482Z",
     "shell.execute_reply": "2025-09-04T13:18:21.664300Z"
    },
    "papermill": {
     "duration": 0.01669,
     "end_time": "2025-09-04T13:18:21.667106",
     "exception": false,
     "start_time": "2025-09-04T13:18:21.650416",
     "status": "completed"
    },
    "tags": []
   },
   "outputs": [
    {
     "name": "stdout",
     "output_type": "stream",
     "text": [
      "Model coefficient for \"surface_covered_in_m2\": 461.97\n"
     ]
    }
   ],
   "source": [
    "coefficient = round(model.coef_[0], 2)\n",
    "print('Model coefficient for \"surface_covered_in_m2\":', coefficient)\n",
    "assert any([isinstance(coefficient, int), isinstance(coefficient, float)])"
   ]
  },
  {
   "cell_type": "code",
   "execution_count": 25,
   "id": "44486e66",
   "metadata": {
    "execution": {
     "iopub.execute_input": "2025-09-04T13:18:21.684070Z",
     "iopub.status.busy": "2025-09-04T13:18:21.683752Z",
     "iopub.status.idle": "2025-09-04T13:18:21.688660Z",
     "shell.execute_reply": "2025-09-04T13:18:21.687874Z"
    },
    "papermill": {
     "duration": 0.014945,
     "end_time": "2025-09-04T13:18:21.690009",
     "exception": false,
     "start_time": "2025-09-04T13:18:21.675064",
     "status": "completed"
    },
    "tags": []
   },
   "outputs": [
    {
     "name": "stdout",
     "output_type": "stream",
     "text": [
      "apartment_price = 2387308.48 + 461.97 * surface_covered\n"
     ]
    }
   ],
   "source": [
    "print(f\"apartment_price = {intercept} + {coefficient} * surface_covered\") "
   ]
  },
  {
   "cell_type": "code",
   "execution_count": 26,
   "id": "042c477b",
   "metadata": {
    "execution": {
     "iopub.execute_input": "2025-09-04T13:18:21.707247Z",
     "iopub.status.busy": "2025-09-04T13:18:21.706877Z",
     "iopub.status.idle": "2025-09-04T13:18:21.985568Z",
     "shell.execute_reply": "2025-09-04T13:18:21.984071Z"
    },
    "papermill": {
     "duration": 0.289774,
     "end_time": "2025-09-04T13:18:21.987748",
     "exception": false,
     "start_time": "2025-09-04T13:18:21.697974",
     "status": "completed"
    },
    "tags": []
   },
   "outputs": [
    {
     "data": {
      "image/png": "[encoded data removed]",
      "text/plain": [
       "<Figure size 640x480 with 1 Axes>"
      ]
     },
     "metadata": {},
     "output_type": "display_data"
    }
   ],
   "source": [
    "# Add a line to the plot\n",
    "plt.plot(X_train, y_pred_baseline, color=\"orange\", label=\"Baseline Model\")\n",
    "plt.plot(X_train, model.predict(X_train), color=\"red\", label=\"Linear Model\")\n",
    "\n",
    "plt.scatter(X_train, y_train)\n",
    "plt.xlabel(\"surface covered [sq meters]\")\n",
    "plt.ylabel(\"price [usd]\")\n",
    "plt.title(\"Price vs Land Area\")\n",
    "plt.legend();"
   ]
  },
  {
   "cell_type": "code",
   "execution_count": null,
   "id": "b367b83e",
   "metadata": {
    "papermill": {
     "duration": 0.008894,
     "end_time": "2025-09-04T13:18:22.005886",
     "exception": false,
     "start_time": "2025-09-04T13:18:21.996992",
     "status": "completed"
    },
    "tags": []
   },
   "outputs": [],
   "source": []
  }
 ],
 "metadata": {
  "kaggle": {
   "accelerator": "none",
   "dataSources": [
    {
     "datasetId": 4172651,
     "sourceId": 7211246,
     "sourceType": "datasetVersion"
    },
    {
     "datasetId": 7205813,
     "sourceId": 11494856,
     "sourceType": "datasetVersion"
    }
   ],
   "dockerImageVersionId": 31089,
   "isGpuEnabled": false,
   "isInternetEnabled": true,
   "language": "python",
   "sourceType": "notebook"
  },
  "kernelspec": {
   "display_name": "Python 3",
   "language": "python",
   "name": "python3"
  },
  "language_info": {
   "codemirror_mode": {
    "name": "ipython",
    "version": 3
   },
   "file_extension": ".py",
   "mimetype": "text/x-python",
   "name": "python",
   "nbconvert_exporter": "python",
   "pygments_lexer": "ipython3",
   "version": "3.11.13"
  },
  "papermill": {
   "default_parameters": {},
   "duration": 13.013074,
   "end_time": "2025-09-04T13:18:22.736470",
   "environment_variables": {},
   "exception": null,
   "input_path": "__notebook__.ipynb",
   "output_path": "__notebook__.ipynb",
   "parameters": {},
   "start_time": "2025-09-04T13:18:09.723396",
   "version": "2.6.0"
  }
 },
 "nbformat": 4,
 "nbformat_minor": 5
}
